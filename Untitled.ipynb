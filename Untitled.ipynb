{
 "cells": [
  {
   "cell_type": "code",
   "execution_count": 2,
   "id": "fe0c89fd-ac4a-4f8b-9acc-43c2750d1c0c",
   "metadata": {},
   "outputs": [],
   "source": [
    "import numpy as np\n",
    "MAX_KEY = 1000000\n",
    "\n",
    "NUM_CONSTRUCTION_INSERTION = 100000\n",
    "sequence = []"
   ]
  },
  {
   "cell_type": "code",
   "execution_count": 29,
   "id": "89589a1a-0d22-481a-8f5f-e1aae86b85aa",
   "metadata": {},
   "outputs": [],
   "source": [
    "keys = np.random.choice(\n",
    "    np.arange(MAX_KEY) + 1,\n",
    "    #size=NUM_CONSTRUCTION_INSERTION,\n",
    "    size=10,\n",
    "    replace=False\n",
    ")\n",
    "with open(\"undefined.txt\", \"w\") as f:\n",
    "    for key in keys:\n",
    "        f.write(f\"i {key}\\n\")"
   ]
  },
  {
   "cell_type": "code",
   "execution_count": null,
   "id": "bffb517b-15ae-4962-8e47-34ef54f93862",
   "metadata": {},
   "outputs": [],
   "source": []
  }
 ],
 "metadata": {
  "kernelspec": {
   "display_name": "Python 3",
   "language": "python",
   "name": "python3"
  },
  "language_info": {
   "codemirror_mode": {
    "name": "ipython",
    "version": 3
   },
   "file_extension": ".py",
   "mimetype": "text/x-python",
   "name": "python",
   "nbconvert_exporter": "python",
   "pygments_lexer": "ipython3",
   "version": "3.8.8"
  }
 },
 "nbformat": 4,
 "nbformat_minor": 5
}
