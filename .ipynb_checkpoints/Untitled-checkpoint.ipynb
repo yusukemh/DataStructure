{
 "cells": [
  {
   "cell_type": "code",
   "execution_count": 203,
   "id": "fe0c89fd-ac4a-4f8b-9acc-43c2750d1c0c",
   "metadata": {},
   "outputs": [],
   "source": [
    "import numpy as np\n",
    "from copy import deepcopy\n",
    "import os\n",
    "MAX_KEY = int(1e8)\n",
    "\n",
    "# NUM_CONSTRUCTION_INSERTION = int(1e5)\n",
    "NUM_OPERATIONS = [int(1e4), int(5e4), int(1e5), int(5e5), int(1e6)]\n",
    "SET_TYPES = [\"A-I\", \"A-D\", \"A-S\", \"B-I\", \"B-D\", \"B-S\", \"R\"]\n",
    "WEIGHTS = [\n",
    "    [0.10, 0.45, 0.45],\n",
    "    [0.45, 0.10, 0.45],\n",
    "    [0.45, 0.45, 0.10],\n",
    "    [0.80, 0.10, 0.10],\n",
    "    [0.10, 0.80, 0.10],\n",
    "    [0.10, 0.10, 0.80],\n",
    "    [0.33, 0.33, 0.33],\n",
    "]\n",
    "\n",
    "# create all necessary directories\n",
    "if not os.path.exists(f\"testsets\"):\n",
    "    os.mkdir(f\"testsets\")\n",
    "for set_type in SET_TYPES:\n",
    "    # create top directories\n",
    "    if not os.path.exists(f'testsets/{set_type}'):\n",
    "        os.mkdir(f'testsets/{set_type}')\n",
    "    for n_operations in NUM_OPERATIONS:\n",
    "        if not os.path.exists(f\"testsets/{set_type}/{n_operations}\"):\n",
    "            os.mkdir(f\"testsets/{set_type}/{n_operations}\")"
   ]
  },
  {
   "cell_type": "code",
   "execution_count": null,
   "id": "d971b18e-b779-44cc-90c5-616e0954bf32",
   "metadata": {},
   "outputs": [],
   "source": [
    "for set_type, weights in zip(SET_TYPES, WEIGHTS):\n",
    "    for n_operations in NUM_OPERATIONS:\n",
    "        for n_iter in range(1, 6):\n",
    "            print(f\"testsets/{set_type}/{n_operations}/iter_{n_iter}.txt\")\n",
    "            # print(f\"{weights}\")\n",
    "            # sequence = deepcopy(original_sequence)\n",
    "            # generate the construction insertions\n",
    "            existing_keys = np.random.choice(\n",
    "                np.arange(MAX_KEY) + 1,\n",
    "                size=n_operations,\n",
    "                # size=10,\n",
    "                replace=False\n",
    "            )\n",
    "            sequence = [f\"i {key}\" for key in existing_keys]\n",
    "            for _ in range(n_operations):\n",
    "                operation = np.random.choice(a=3, p=weights)\n",
    "                if (operation == 0):\n",
    "                    # if insertion\n",
    "                    key = np.random.randint(MAX_KEY) + 1\n",
    "                    # make sure to append the key to existing_keys\n",
    "                    np.append(existing_keys, key)\n",
    "                    sequence.append(f\"i {key}\")\n",
    "                elif (operation == 1):\n",
    "                    # if deletion, choose the key to insert from existing_keys\n",
    "                    key = np.random.choice(existing_keys)\n",
    "                    # make sure to remove the key from existing_keys\n",
    "                    np.delete(existing_keys, np.where(existing_keys == key))\n",
    "                    sequence.append(f\"d {key}\")\n",
    "                elif (operation == 2):\n",
    "                    # if search\n",
    "                    key = np.random.randint(MAX_KEY) + 1\n",
    "                    sequence.append(f\"s {key}\")\n",
    "            with open(f\"testsets/{set_type}/{n_operations}/iter_{n_iter}.txt\", \"w\") as f:\n",
    "                for item in sequence:\n",
    "                    f.write(f\"{item}\\n\")\n",
    "        "
   ]
  },
  {
   "cell_type": "code",
   "execution_count": null,
   "id": "204e8838-992f-4c9d-a1cc-21576d743c9c",
   "metadata": {},
   "outputs": [],
   "source": []
  }
 ],
 "metadata": {
  "kernelspec": {
   "display_name": "Python 3",
   "language": "python",
   "name": "python3"
  },
  "language_info": {
   "codemirror_mode": {
    "name": "ipython",
    "version": 3
   },
   "file_extension": ".py",
   "mimetype": "text/x-python",
   "name": "python",
   "nbconvert_exporter": "python",
   "pygments_lexer": "ipython3",
   "version": "3.8.8"
  }
 },
 "nbformat": 4,
 "nbformat_minor": 5
}
