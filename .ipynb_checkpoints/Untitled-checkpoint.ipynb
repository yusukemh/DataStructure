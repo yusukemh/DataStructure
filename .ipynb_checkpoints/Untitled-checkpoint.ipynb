{
 "cells": [
  {
   "cell_type": "code",
   "execution_count": 122,
   "id": "fe0c89fd-ac4a-4f8b-9acc-43c2750d1c0c",
   "metadata": {},
   "outputs": [],
   "source": [
    "import numpy as np\n",
    "MAX_KEY = 1000000\n",
    "\n",
    "NUM_CONSTRUCTION_INSERTION = 1000000\n",
    "NUM_OPERATIONS = [100, 1000, 10000, 100000]\n",
    "sequence = []"
   ]
  },
  {
   "cell_type": "code",
   "execution_count": 123,
   "id": "89589a1a-0d22-481a-8f5f-e1aae86b85aa",
   "metadata": {},
   "outputs": [],
   "source": [
    "# generate \n",
    "existing_keys = np.random.choice(\n",
    "    np.arange(MAX_KEY) + 1,\n",
    "    size=NUM_CONSTRUCTION_INSERTION,\n",
    "    # size=10,\n",
    "    replace=False\n",
    ")\n",
    "original_sequence = [f\"i {key}\" for key in existing_keys]"
   ]
  },
  {
   "cell_type": "code",
   "execution_count": 124,
   "id": "9812100b-e945-4a37-a48c-0659de814930",
   "metadata": {},
   "outputs": [],
   "source": [
    "# append test sets\n",
    "# A-I\n",
    "# define weight as the proportion of operations.\n",
    "# weights[0] = proportion of insertion, w[1] deletion, w[2] search\n",
    "weights = [0.1, 0.45, 0.45]\n",
    "for n_operations in NUM_OPERATIONS:\n",
    "#for n_operations in [1000]:\n",
    "    sequence = original_sequence\n",
    "    for _ in range(n_operations):\n",
    "        operation = np.random.choice(a=3, p=weights)\n",
    "        if (operation == 0):\n",
    "            # if insertion\n",
    "            key = np.random.randint(MAX_KEY) + 1\n",
    "            # make sure to append the key to existing_keys\n",
    "            np.append(existing_keys, key)\n",
    "            sequence.append(f\"i {key}\")\n",
    "        elif (operation == 1):\n",
    "            # if deletion, choose the key to insert from existing_keys\n",
    "            key = np.random.choice(existing_keys)\n",
    "            # make sure to remove the key from existing_keys\n",
    "            np.delete(existing_keys, np.where(existing_keys == key))\n",
    "            sequence.append(f\"d {key}\")\n",
    "        elif (operation == 2):\n",
    "            # if search\n",
    "            key = np.random.randint(MAX_KEY) + 1\n",
    "            sequence.append(f\"s {key}\")\n",
    "    with open(f\"testsets/A-I-{n_operations}.txt\", \"w\") as f:\n",
    "        for item in sequence:\n",
    "            f.write(f\"{item}\\n\")"
   ]
  },
  {
   "cell_type": "code",
   "execution_count": null,
   "id": "bffb517b-15ae-4962-8e47-34ef54f93862",
   "metadata": {},
   "outputs": [],
   "source": []
  },
  {
   "cell_type": "code",
   "execution_count": 79,
   "id": "b1b7f4ff-7b18-4b48-b939-800853628c5f",
   "metadata": {},
   "outputs": [
    {
     "data": {
      "text/plain": [
       "array([0, 1, 2, 3, 4, 5, 6, 7, 8, 9])"
      ]
     },
     "execution_count": 79,
     "metadata": {},
     "output_type": "execute_result"
    }
   ],
   "source": [
    "test = np.arange(10)\n",
    "test"
   ]
  },
  {
   "cell_type": "code",
   "execution_count": 80,
   "id": "96811832-242c-4543-a09d-d4a34964fb35",
   "metadata": {},
   "outputs": [
    {
     "data": {
      "text/plain": [
       "array([0, 1, 2, 3, 5, 6, 7, 8, 9])"
      ]
     },
     "execution_count": 80,
     "metadata": {},
     "output_type": "execute_result"
    }
   ],
   "source": [
    "np.delete(test, np.where(test == 4))"
   ]
  },
  {
   "cell_type": "code",
   "execution_count": 82,
   "id": "4d3e1f6a-f895-4ded-9af4-6bc495abda7e",
   "metadata": {},
   "outputs": [
    {
     "data": {
      "text/plain": [
       "array([  0,   1,   2,   3,   4,   5,   6,   7,   8,   9, 100])"
      ]
     },
     "execution_count": 82,
     "metadata": {},
     "output_type": "execute_result"
    }
   ],
   "source": [
    "np.append(test, 100)"
   ]
  },
  {
   "cell_type": "code",
   "execution_count": 85,
   "id": "7d2c28ea-2650-4bce-b900-e83091b1cfa5",
   "metadata": {},
   "outputs": [
    {
     "data": {
      "text/plain": [
       "312696"
      ]
     },
     "execution_count": 85,
     "metadata": {},
     "output_type": "execute_result"
    }
   ],
   "source": [
    "np.random.randint(MAX_KEY)"
   ]
  },
  {
   "cell_type": "code",
   "execution_count": null,
   "id": "204e8838-992f-4c9d-a1cc-21576d743c9c",
   "metadata": {},
   "outputs": [],
   "source": []
  }
 ],
 "metadata": {
  "kernelspec": {
   "display_name": "Python 3",
   "language": "python",
   "name": "python3"
  },
  "language_info": {
   "codemirror_mode": {
    "name": "ipython",
    "version": 3
   },
   "file_extension": ".py",
   "mimetype": "text/x-python",
   "name": "python",
   "nbconvert_exporter": "python",
   "pygments_lexer": "ipython3",
   "version": "3.8.8"
  }
 },
 "nbformat": 4,
 "nbformat_minor": 5
}
